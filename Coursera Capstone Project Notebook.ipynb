{
    "cells": [
        {
            "attachments": {},
            "cell_type": "markdown",
            "metadata": {
                "collapsed": true
            },
            "source": "# Best Location in Phoenix's West Valley\n\nThis project is designed to assist executives of technology companies, or other similar industries, in selecting the location in Phoenix's West Valley to lease or purchase office space. In order to determine the best location for office space, it is important to consider the location of the building itself, as well as the surrounding areas. The location of office space should account for ease of access to the office and community amenities, such as dining, hotels, and recreational activities. While technology companies are not generally concerned with foot traffic, they are concerned with attracting top talent. As such, the characteristics of nearby areas where their employees may choose to live should be considered when selecting an office location. As such, this analysis will identify the best possible locations for a company based on both the possible office location itself and the characteristics of nearby areas, such as crime rates, available activities, recreational facilities, and demographics."
        },
        {
            "cell_type": "markdown",
            "metadata": {},
            "source": "## Data Plan"
        },
        {
            "cell_type": "markdown",
            "metadata": {},
            "source": "In order to complete this analysis, several data sources will be utilized. This will include the zip codes in the region to identify each area. Next will be data on demographics and crime rates in each zip code. Finally, data on the various amenities and activities in each area will be utilized.\n\nFor demographics in each area of the West Valley, US Census data will be utilized and accessible at https://data.census.gov/cedsci/all?q=arizona&g=0400000US04&tid=ACSDP1Y2018.DP05&hidePreview=false&vintage=2018&layer=VT_2018_040_00_PY_D1&cid=DP05_0001E\n\n\nFor crime rates in the region, data will be pulled from https://www.neighborhoodscout.com/az/phoenix/crime\n\nFinally, for information on activities and amenities in each area, Foursquare will be utilized. \n"
        },
        {
            "cell_type": "code",
            "execution_count": null,
            "metadata": {},
            "outputs": [],
            "source": ""
        }
    ],
    "metadata": {
        "kernelspec": {
            "display_name": "Python 3.6",
            "language": "python",
            "name": "python3"
        },
        "language_info": {
            "codemirror_mode": {
                "name": "ipython",
                "version": 3
            },
            "file_extension": ".py",
            "mimetype": "text/x-python",
            "name": "python",
            "nbconvert_exporter": "python",
            "pygments_lexer": "ipython3",
            "version": "3.6.9"
        }
    },
    "nbformat": 4,
    "nbformat_minor": 1
}